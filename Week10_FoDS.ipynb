{
  "nbformat": 4,
  "nbformat_minor": 0,
  "metadata": {
    "colab": {
      "provenance": []
    },
    "kernelspec": {
      "name": "python3",
      "display_name": "Python 3"
    },
    "language_info": {
      "name": "python"
    }
  },
  "cells": [
    {
      "cell_type": "code",
      "execution_count": 30,
      "metadata": {
        "id": "pm3qmc-bcntZ"
      },
      "outputs": [],
      "source": [
        "import pandas as pd\n",
        "from math import sqrt\n",
        "import numpy as np"
      ]
    },
    {
      "cell_type": "code",
      "source": [
        "movies_df = pd.read_csv('movies.csv')\n",
        "ratings_df = pd.read_csv('ratings.csv')\n",
        "print(movies_df.info())"
      ],
      "metadata": {
        "colab": {
          "base_uri": "https://localhost:8080/"
        },
        "id": "kZE-m9hMc0aY",
        "outputId": "9c0b1074-fae0-4a45-901f-74b836165976"
      },
      "execution_count": 31,
      "outputs": [
        {
          "output_type": "stream",
          "name": "stdout",
          "text": [
            "<class 'pandas.core.frame.DataFrame'>\n",
            "RangeIndex: 9742 entries, 0 to 9741\n",
            "Data columns (total 3 columns):\n",
            " #   Column   Non-Null Count  Dtype \n",
            "---  ------   --------------  ----- \n",
            " 0   movieId  9742 non-null   int64 \n",
            " 1   title    9742 non-null   object\n",
            " 2   genres   9742 non-null   object\n",
            "dtypes: int64(1), object(2)\n",
            "memory usage: 228.5+ KB\n",
            "None\n"
          ]
        }
      ]
    },
    {
      "cell_type": "code",
      "source": [
        "userInput = [{'title':'Tom and Huck (1995)', 'rating':5},\n",
        "             {'title':'Dangerous Minds (1995)', 'rating':3.5},\n",
        "             {'title':'Copycat (1995)', 'rating':4},\n",
        "             {'title':'Assassins (1995)', 'rating':4},\n",
        "             {'title':'Sense and Sensibility (1995)', 'rating':4.5}]\n",
        "inputMovies = pd.DataFrame(userInput)\n",
        "print(inputMovies)"
      ],
      "metadata": {
        "colab": {
          "base_uri": "https://localhost:8080/"
        },
        "id": "29pFmgTId36h",
        "outputId": "9140fceb-0b0f-40e0-8797-aac750dc8074"
      },
      "execution_count": 32,
      "outputs": [
        {
          "output_type": "stream",
          "name": "stdout",
          "text": [
            "                          title  rating\n",
            "0           Tom and Huck (1995)     5.0\n",
            "1        Dangerous Minds (1995)     3.5\n",
            "2                Copycat (1995)     4.0\n",
            "3              Assassins (1995)     4.0\n",
            "4  Sense and Sensibility (1995)     4.5\n"
          ]
        }
      ]
    },
    {
      "cell_type": "code",
      "source": [
        "inputId = movies_df[movies_df['title'].isin(inputMovies['title'].tolist())]\n",
        "inputMovies = pd.merge(inputId, inputMovies)\n",
        "inputMovies = inputMovies[['movieId','title','rating']]\n",
        "print(inputMovies)"
      ],
      "metadata": {
        "colab": {
          "base_uri": "https://localhost:8080/"
        },
        "id": "ZW0FNoNmf2Uw",
        "outputId": "f013bbb2-a652-44b4-e6e8-99d92b09b552"
      },
      "execution_count": 33,
      "outputs": [
        {
          "output_type": "stream",
          "name": "stdout",
          "text": [
            "   movieId                         title  rating\n",
            "0        8           Tom and Huck (1995)     5.0\n",
            "1       17  Sense and Sensibility (1995)     4.5\n",
            "2       22                Copycat (1995)     4.0\n",
            "3       23              Assassins (1995)     4.0\n",
            "4       31        Dangerous Minds (1995)     3.5\n"
          ]
        }
      ]
    },
    {
      "cell_type": "code",
      "source": [
        "userSubset = ratings_df[ratings_df['movieId'].isin(inputMovies['movieId'].tolist())]\n",
        "print(userSubset.groupby('movieId').count())"
      ],
      "metadata": {
        "colab": {
          "base_uri": "https://localhost:8080/"
        },
        "id": "w6zzeo1BhYAB",
        "outputId": "6426192e-0c8c-45aa-a87e-e1e33f4746c3"
      },
      "execution_count": 34,
      "outputs": [
        {
          "output_type": "stream",
          "name": "stdout",
          "text": [
            "         userId  rating  timestamp\n",
            "movieId                           \n",
            "8             8       8          8\n",
            "17           67      67         67\n",
            "22           36      36         36\n",
            "23           16      16         16\n",
            "31           38      38         38\n"
          ]
        }
      ]
    },
    {
      "cell_type": "code",
      "source": [
        "#Groupby creates several sub dataframes where they all have the same value in the column specified as the parameter\n",
        "userSubsetGroup = userSubset.groupby(['userId'])\n",
        "\n",
        "def take_5_elem(x):\n",
        "    # print (len(x[1]))\n",
        "    return len(x[1])\n",
        "\n",
        "\n",
        "#Sorting it so users with movie most in common with the input will have priority\n",
        "userSubsetGroup = sorted(userSubsetGroup, key=take_5_elem, reverse=True)\n",
        "\n",
        "userSubsetGroup = userSubsetGroup[0:100]\n",
        "print(userSubsetGroup[0:5])"
      ],
      "metadata": {
        "colab": {
          "base_uri": "https://localhost:8080/"
        },
        "id": "iPookJzYhbUF",
        "outputId": "20e07871-01fa-4015-ad45-0e5e09112720"
      },
      "execution_count": 35,
      "outputs": [
        {
          "output_type": "stream",
          "name": "stdout",
          "text": [
            "[(414,        userId  movieId  rating  timestamp\n",
            "62300     414        8     3.0  961594849\n",
            "62305     414       17     4.0  961513829\n",
            "62308     414       22     3.0  961518227\n",
            "62309     414       23     2.0  961682276\n",
            "62313     414       31     3.0  961518520), (6,      userId  movieId  rating  timestamp\n",
            "566       6        8     3.0  845555281\n",
            "572       6       17     4.0  845553559\n",
            "575       6       22     5.0  845553875\n",
            "580       6       31     3.0  845553819), (314,        userId  movieId  rating  timestamp\n",
            "48587     314       17     4.0  834398442\n",
            "48589     314       22     3.0  834398622\n",
            "48590     314       23     3.0  834241586\n",
            "48592     314       31     3.0  834241586), (274,        userId  movieId  rating   timestamp\n",
            "39232     274        8     3.0  1172030892\n",
            "39238     274       22     3.5  1171759024\n",
            "39239     274       23     3.5  1171829251), (474,        userId  movieId  rating   timestamp\n",
            "73100     474       17     5.0   974668666\n",
            "73102     474       22     3.0  1046896006\n",
            "73109     474       31     3.0  1060105936)]\n"
          ]
        },
        {
          "output_type": "stream",
          "name": "stderr",
          "text": [
            "<ipython-input-35-af8a4a42e498>:10: FutureWarning: In a future version of pandas, a length 1 tuple will be returned when iterating over a groupby with a grouper equal to a list of length 1. Don't supply a list with a single grouper to avoid this warning.\n",
            "  userSubsetGroup = sorted(userSubsetGroup, key=take_5_elem, reverse=True)\n"
          ]
        }
      ]
    },
    {
      "cell_type": "code",
      "source": [
        "#Store the Pearson Correlation in a dictionary, where the key is the user Id and the value is the coefficient\n",
        "pearsonCorrelationDict = {}\n",
        "\n",
        "#For every user group in our subset\n",
        "for name, group in userSubsetGroup:\n",
        "\n",
        "    #Let's start by sorting the input and current user group so the values aren't mixed up later on\n",
        "    group = group.sort_values(by='movieId')\n",
        "    inputMovies = inputMovies.sort_values(by='movieId')\n",
        "\n",
        "    #Get the N for the formula\n",
        "    nRatings = len(group)\n",
        "\n",
        "    #Get the review scores for the movies that they both have in common\n",
        "    temp_df = inputMovies[inputMovies['movieId'].isin(group['movieId'].tolist())]\n",
        "\n",
        "    #And then store them in a temporary buffer variable in a list format to facilitate future calculations\n",
        "    tempRatingList = temp_df['rating'].tolist()\n",
        "\n",
        "    #Let's also put the current user group reviews in a list format\n",
        "    tempGroupList = group['rating'].tolist()\n",
        "\n",
        "\n",
        "    #Now let's calculate the pearson correlation between two users, so called, x and y manually (check the formula from week 7 slide)\n",
        "    Sxx = sum([i**2 for i in tempRatingList]) - pow(sum(tempRatingList),2)/float(nRatings)\n",
        "    Syy = sum([i**2 for i in tempGroupList]) - pow(sum(tempGroupList),2)/float(nRatings)\n",
        "    Sxy = sum( i*j for i, j in zip(tempRatingList, tempGroupList)) - sum(tempRatingList)*sum(tempGroupList)/float(nRatings)\n",
        "\n",
        "    #If the denominator is different than zero, then divide, else, 0 correlation.\n",
        "    if Sxx != 0 and Syy != 0:\n",
        "        pearsonCorrelationDict[name] = Sxy/sqrt(Sxx*Syy)\n",
        "    else:\n",
        "        pearsonCorrelationDict[name] = 0"
      ],
      "metadata": {
        "id": "sUlkvMQnhglh"
      },
      "execution_count": 36,
      "outputs": []
    },
    {
      "cell_type": "code",
      "source": [
        "pearsonDF = pd.DataFrame.from_dict(pearsonCorrelationDict, orient='index')\n",
        "pearsonDF.columns = ['similarityIndex']\n",
        "pearsonDF['userId'] = pearsonDF.index\n",
        "pearsonDF.index = range(len(pearsonDF))\n",
        "print(pearsonDF.head())"
      ],
      "metadata": {
        "colab": {
          "base_uri": "https://localhost:8080/"
        },
        "id": "SPtayGGjhlTW",
        "outputId": "81d43dd4-23fb-45c9-f4d2-09a539e9f217"
      },
      "execution_count": 37,
      "outputs": [
        {
          "output_type": "stream",
          "name": "stdout",
          "text": [
            "   similarityIndex  userId\n",
            "0         0.310087     414\n",
            "1        -0.134840       6\n",
            "2         0.816497     314\n",
            "3        -1.000000     274\n",
            "4         0.866025     474\n"
          ]
        }
      ]
    },
    {
      "cell_type": "code",
      "source": [
        "topUsers=pearsonDF.sort_values(by='similarityIndex', ascending=False)[0:50]\n",
        "print(topUsers.head())"
      ],
      "metadata": {
        "colab": {
          "base_uri": "https://localhost:8080/"
        },
        "id": "84bsQrMthv8z",
        "outputId": "7f5c0425-6ad3-4eae-92fa-fb277211cbb9"
      },
      "execution_count": 38,
      "outputs": [
        {
          "output_type": "stream",
          "name": "stdout",
          "text": [
            "    similarityIndex  userId\n",
            "20              1.0     323\n",
            "19              1.0     307\n",
            "8               1.0      40\n",
            "18              1.0     182\n",
            "16              1.0     162\n"
          ]
        }
      ]
    },
    {
      "cell_type": "code",
      "source": [
        "topUsersRating=topUsers.merge(ratings_df, left_on='userId', right_on='userId', how='inner')\n",
        "print(topUsersRating.head(100))"
      ],
      "metadata": {
        "colab": {
          "base_uri": "https://localhost:8080/"
        },
        "id": "simhJevfhxDL",
        "outputId": "1d11b1ef-7101-4cce-d6f7-f97a2899df52"
      },
      "execution_count": 39,
      "outputs": [
        {
          "output_type": "stream",
          "name": "stdout",
          "text": [
            "    similarityIndex  userId  movieId  rating   timestamp\n",
            "0               1.0     323        1     3.5  1422640363\n",
            "1               1.0     323        2     4.0  1422640110\n",
            "2               1.0     323       17     3.5  1422640288\n",
            "3               1.0     323       19     2.5  1422640116\n",
            "4               1.0     323       22     3.0  1422640551\n",
            "..              ...     ...      ...     ...         ...\n",
            "95              1.0     323   115617     3.5  1422640828\n",
            "96              1.0     323   116797     4.5  1422640799\n",
            "97              1.0     323   117176     4.0  1422640837\n",
            "98              1.0     307        1     4.0  1186160893\n",
            "99              1.0     307        2     2.5  1186161482\n",
            "\n",
            "[100 rows x 5 columns]\n"
          ]
        }
      ]
    },
    {
      "cell_type": "code",
      "source": [
        "#Multiplies the similarity by the user’s ratings\n",
        "topUsersRating['weightedRating'] = topUsersRating['similarityIndex']*topUsersRating['rating']\n",
        "print(topUsersRating.head())"
      ],
      "metadata": {
        "colab": {
          "base_uri": "https://localhost:8080/"
        },
        "id": "BNh4VR7-h1GT",
        "outputId": "5e0ac419-be52-4b00-dcd8-488da1788ddd"
      },
      "execution_count": 40,
      "outputs": [
        {
          "output_type": "stream",
          "name": "stdout",
          "text": [
            "   similarityIndex  userId  movieId  rating   timestamp  weightedRating\n",
            "0              1.0     323        1     3.5  1422640363             3.5\n",
            "1              1.0     323        2     4.0  1422640110             4.0\n",
            "2              1.0     323       17     3.5  1422640288             3.5\n",
            "3              1.0     323       19     2.5  1422640116             2.5\n",
            "4              1.0     323       22     3.0  1422640551             3.0\n"
          ]
        }
      ]
    },
    {
      "cell_type": "code",
      "source": [
        "#Applies a sum to the topUsers after grouping it up by movieId\n",
        "tempTopUsersRating = topUsersRating.groupby('movieId').sum()[['similarityIndex','weightedRating']]\n",
        "tempTopUsersRating.columns = ['sum_similarityIndex','sum_weightedRating']\n",
        "print(tempTopUsersRating.head())"
      ],
      "metadata": {
        "colab": {
          "base_uri": "https://localhost:8080/"
        },
        "id": "AVqzCocNh5S2",
        "outputId": "6e7e7a39-014b-41aa-b802-6ae46f8dcdde"
      },
      "execution_count": 41,
      "outputs": [
        {
          "output_type": "stream",
          "name": "stdout",
          "text": [
            "         sum_similarityIndex  sum_weightedRating\n",
            "movieId                                         \n",
            "1                   8.088648           30.942057\n",
            "2                   6.272152           20.518436\n",
            "3                   1.906126            5.634407\n",
            "4                   2.000000            6.000000\n",
            "5                   4.676112           10.919212\n"
          ]
        }
      ]
    },
    {
      "cell_type": "code",
      "source": [
        "#Creates an empty dataframe\n",
        "recommendation_df = pd.DataFrame()\n",
        "\n",
        "#Now we take the weighted average\n",
        "recommendation_df['weighted average recommendation score'] = tempTopUsersRating['sum_weightedRating']/tempTopUsersRating['sum_similarityIndex']\n",
        "recommendation_df['movieId'] = tempTopUsersRating.index\n",
        "print(recommendation_df.head(10))"
      ],
      "metadata": {
        "colab": {
          "base_uri": "https://localhost:8080/"
        },
        "id": "85Dfvn1ch81r",
        "outputId": "13543598-7025-4e0f-ddc8-2ab4f1811b8b"
      },
      "execution_count": 42,
      "outputs": [
        {
          "output_type": "stream",
          "name": "stdout",
          "text": [
            "         weighted average recommendation score  movieId\n",
            "movieId                                                \n",
            "1                                     3.825368        1\n",
            "2                                     3.271355        2\n",
            "3                                     2.955946        3\n",
            "4                                     3.000000        4\n",
            "5                                     2.335105        5\n",
            "6                                     3.666986        6\n",
            "7                                     3.330920        7\n",
            "8                                     3.000000        8\n",
            "9                                     1.500000        9\n",
            "10                                    2.821204       10\n"
          ]
        }
      ]
    },
    {
      "cell_type": "code",
      "source": [
        "recommendation_df = recommendation_df.sort_values(by='weighted average recommendation score', ascending=False)\n",
        "print(recommendation_df)"
      ],
      "metadata": {
        "colab": {
          "base_uri": "https://localhost:8080/"
        },
        "id": "e7zyXOX_h_5L",
        "outputId": "4e121fcc-ad20-4b5c-f14b-4787dc50164f"
      },
      "execution_count": 43,
      "outputs": [
        {
          "output_type": "stream",
          "name": "stdout",
          "text": [
            "         weighted average recommendation score  movieId\n",
            "movieId                                                \n",
            "89118                                      5.0    89118\n",
            "56251                                      5.0    56251\n",
            "611                                        5.0      611\n",
            "43376                                      5.0    43376\n",
            "5075                                       5.0     5075\n",
            "...                                        ...      ...\n",
            "116897                                     NaN   116897\n",
            "117533                                     NaN   117533\n",
            "161127                                     NaN   161127\n",
            "165101                                     NaN   165101\n",
            "175303                                     NaN   175303\n",
            "\n",
            "[5811 rows x 2 columns]\n"
          ]
        }
      ]
    },
    {
      "cell_type": "code",
      "source": [
        "recommended_movie=movies_df.loc[movies_df['movieId'].isin(recommendation_df['movieId'])]\n",
        "\n",
        "#we don't want to recommend the same movie\n",
        "recommended_movie=recommended_movie.loc[~recommended_movie.movieId.isin(userSubset['movieId'])]\n",
        "\n",
        "print(recommended_movie)"
      ],
      "metadata": {
        "colab": {
          "base_uri": "https://localhost:8080/"
        },
        "id": "6XDFgOXCiDX-",
        "outputId": "b6f8cf89-1f71-46c3-a8ae-1669394947db"
      },
      "execution_count": 44,
      "outputs": [
        {
          "output_type": "stream",
          "name": "stdout",
          "text": [
            "      movieId                                      title  \\\n",
            "0           1                           Toy Story (1995)   \n",
            "1           2                             Jumanji (1995)   \n",
            "2           3                    Grumpier Old Men (1995)   \n",
            "3           4                   Waiting to Exhale (1995)   \n",
            "4           5         Father of the Bride Part II (1995)   \n",
            "...       ...                                        ...   \n",
            "9656   180985                The Greatest Showman (2017)   \n",
            "9660   181315                      Phantom Thread (2017)   \n",
            "9679   183301        The Tale of the Bunny Picnic (1986)   \n",
            "9695   184791  Fred Armisen: Standup for Drummers (2018)   \n",
            "9710   187595             Solo: A Star Wars Story (2018)   \n",
            "\n",
            "                                           genres  \n",
            "0     Adventure|Animation|Children|Comedy|Fantasy  \n",
            "1                      Adventure|Children|Fantasy  \n",
            "2                                  Comedy|Romance  \n",
            "3                            Comedy|Drama|Romance  \n",
            "4                                          Comedy  \n",
            "...                                           ...  \n",
            "9656                                        Drama  \n",
            "9660                                Drama|Romance  \n",
            "9679                                     Children  \n",
            "9695                                       Comedy  \n",
            "9710             Action|Adventure|Children|Sci-Fi  \n",
            "\n",
            "[5806 rows x 3 columns]\n"
          ]
        }
      ]
    }
  ]
}